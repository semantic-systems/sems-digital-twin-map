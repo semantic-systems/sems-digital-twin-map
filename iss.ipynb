{
 "cells": [
  {
   "cell_type": "markdown",
   "metadata": {},
   "source": [
    "# ISS Tracker\n",
    "Just a test project to get a feel for clientside callbacks.\n",
    "See ```@app.callback()```"
   ]
  },
  {
   "cell_type": "code",
   "execution_count": 1,
   "metadata": {},
   "outputs": [],
   "source": [
    "from tqdm import tqdm\n",
    "import branca.colormap as cm\n",
    "import requests\n",
    "\n",
    "import dash\n",
    "from dash import Dash, html, dcc\n",
    "import dash_leaflet as dl\n",
    "from dash.dependencies import Input, Output, State"
   ]
  },
  {
   "cell_type": "code",
   "execution_count": 2,
   "metadata": {},
   "outputs": [
    {
     "name": "stdout",
     "output_type": "stream",
     "text": [
      "{'longitude': 43.1796, 'latitude': -32.5412}\n"
     ]
    }
   ],
   "source": [
    "# make a json call to http://api.open-notify.org/iss-now.json\n",
    "# the response will be a json object\n",
    "# get latitude and longitude from iss_position in the dict\n",
    "\n",
    "def get_iss_position():\n",
    "    \"\"\"\n",
    "    Get the current position of the ISS from the Open Notify API\n",
    "    \"\"\"\n",
    "    response = requests.get('http://api.open-notify.org/iss-now.json')\n",
    "    data = response.json()\n",
    "    position = data['iss_position']\n",
    "    # parse the strings\n",
    "    position['latitude'] = float(position['latitude'])\n",
    "    position['longitude'] = float(position['longitude'])\n",
    "    return position\n",
    "\n",
    "print(get_iss_position())"
   ]
  },
  {
   "cell_type": "code",
   "execution_count": 3,
   "metadata": {},
   "outputs": [],
   "source": [
    "# david is a god for making this work\n",
    "def create_awesome_marker(position=(0.0,0.0), popup=None, icon='satellite', color='darkblue') -> dl.DivMarker:\n",
    "    \"\"\"\n",
    "    Create an awesome marker with a Font Awesome icon\n",
    "    - feature: Feature from the database\n",
    "    - style: Style from the database\n",
    "    - popup: Popup html content as string\n",
    "    - icon: Font Awesome icon name from https://fontawesome.com/icons\n",
    "    - color: marker color as string. Possible values: ```{red, darkred, lightred, orange, beige, green, darkgreen,\n",
    "    lightgreen, blue, darkblue, lightblue, purple, darkpurple, pink, cadetblue, white, gray, lightgray, black}```\n",
    "    \"\"\"\n",
    "\n",
    "    children = []\n",
    "\n",
    "    if popup is not None:\n",
    "        children.append(dl.Popup(content=popup))\n",
    "\n",
    "    awesome_marker = dl.DivMarker(\n",
    "        position=position,\n",
    "        children=children,\n",
    "        iconOptions=dict(\n",
    "            html=f'<i class=\"awesome-marker awesome-marker-icon-{color} leaflet-zoom-animated leaflet-interactive\"></i>'\n",
    "            f'<i class=\"fa fa-{icon} icon-white\" aria-hidden=\"true\" style=\"position: relative; top: 33% !important; left: 37% !important; transform: translate(-50%, -50%) scale(1.2);\"></i>',\n",
    "            className='custom-div-icon',\n",
    "            iconSize=[20, 20],\n",
    "            iconAnchor=[10, 30],\n",
    "            tooltipAnchor=[10, -20],\n",
    "            popupAnchor=[-3, -31]\n",
    "        )\n",
    "    )\n",
    "\n",
    "    return awesome_marker"
   ]
  },
  {
   "cell_type": "code",
   "execution_count": 4,
   "metadata": {},
   "outputs": [],
   "source": [
    "# get the current position of the ISS and create a marker\n",
    "def get_iss_marker():\n",
    "    \"\"\"\n",
    "    Get the current position of the ISS and create a marker\n",
    "    \"\"\"\n",
    "\n",
    "    position = get_iss_position()\n",
    "\n",
    "    popup = \"<b>ISS</b><br>\" \\\n",
    "            f\"Latitude: {position['latitude']:.2f}<br>\" \\\n",
    "            f\"Longitude: {position['longitude']:.2f}\"\n",
    "    \n",
    "    return create_awesome_marker(position=(position['latitude'], position['longitude']), popup=popup, icon='satellite', color='darkblue')"
   ]
  },
  {
   "cell_type": "code",
   "execution_count": 5,
   "metadata": {},
   "outputs": [
    {
     "data": {
      "text/html": [
       "\n",
       "        <iframe\n",
       "            width=\"100%\"\n",
       "            height=\"650\"\n",
       "            src=\"http://127.0.0.1:8050/\"\n",
       "            frameborder=\"0\"\n",
       "            allowfullscreen\n",
       "            \n",
       "        ></iframe>\n",
       "        "
      ],
      "text/plain": [
       "<IPython.lib.display.IFrame at 0x15dab76f280>"
      ]
     },
     "metadata": {},
     "output_type": "display_data"
    }
   ],
   "source": [
    "app = Dash(\n",
    "    __name__,\n",
    "    external_stylesheets=[\n",
    "        'https://maxcdn.bootstrapcdn.com/font-awesome/4.7.0/css/font-awesome.min.css',\n",
    "        'http://code.ionicframework.com/ionicons/1.5.2/css/ionicons.min.css',\n",
    "        'https://raw.githubusercontent.com/lennardv2/Leaflet.awesome-markers/2.0/develop/dist/leaflet.awesome-markers.css',\n",
    "        'https://getbootstrap.com/1.0.0/assets/css/bootstrap-1.0.0.min.css',\n",
    "    ],\n",
    "    external_scripts=[\n",
    "        'http://cdn.leafletjs.com/leaflet-0.6.4/leaflet.js',\n",
    "        'https://kit.fontawesome.com/5ae05e6c33.js'\n",
    "    ]\n",
    ")\n",
    "\n",
    "# get the initial position for the iss\n",
    "position = get_iss_position()\n",
    "(latitude, longitude) = (position['latitude'], position['longitude'])\n",
    "\n",
    "@app.callback(\n",
    "    Output('map', 'children'),\n",
    "    [Input('interval-component', 'n_intervals')]\n",
    ")\n",
    "def update_map(n):\n",
    "    iss_marker = get_iss_marker()\n",
    "    position = get_iss_position()\n",
    "    new_center = (position['latitude'], position['longitude'])\n",
    "\n",
    "    map_children = [\n",
    "        dl.TileLayer(\n",
    "            url='https://{s}.basemaps.cartocdn.com/dark_all/{z}/{x}/{y}{r}.png',\n",
    "        \tattribution='&copy; <a href=\"https://www.openstreetmap.org/copyright\">OpenStreetMap</a> contributors &copy; <a href=\"https://carto.com/attributions\">CARTO</a>',\n",
    "            subdomains='abcd',\n",
    "            maxZoom=20\n",
    "        ),\n",
    "        iss_marker\n",
    "    ]\n",
    "\n",
    "    return [\n",
    "        dl.Map(\n",
    "            map_children,\n",
    "            zoom=6,\n",
    "            center=new_center,\n",
    "            id='map',\n",
    "            style={'width': '100vw', 'height': '100vh'},\n",
    "            # Add properties to make the map static\n",
    "            zoomControl=False,\n",
    "            doubleClickZoom=False,\n",
    "            closePopupOnClick=False,\n",
    "            dragging=False,\n",
    "            zoomSnap=False,\n",
    "            zoomDelta=False,\n",
    "            trackResize=False,\n",
    "            touchZoom=False,\n",
    "            scrollWheelZoom=False\n",
    "        )\n",
    "    ]\n",
    "\n",
    "app.layout = html.Div([\n",
    "    dl.Map(\n",
    "        [            \n",
    "            dl.TileLayer(\n",
    "                    url='https://{s}.basemaps.cartocdn.com/dark_all/{z}/{x}/{y}{r}.png',\n",
    "                \tattribution='&copy; <a href=\"https://www.openstreetmap.org/copyright\">OpenStreetMap</a> contributors &copy; <a href=\"https://carto.com/attributions\">CARTO</a>',\n",
    "                    subdomains='abcd',\n",
    "                    maxZoom=20\n",
    "                ),\n",
    "            get_iss_marker()\n",
    "        ],\n",
    "        zoom=7,\n",
    "        center=(latitude, longitude),\n",
    "        id='map',\n",
    "        style={'width': '100vw', 'height': '100vh'}\n",
    "        ),\n",
    "    dcc.Interval(\n",
    "        id='interval-component',\n",
    "        interval=5000, # in milliseconds\n",
    "        n_intervals=0\n",
    "    ),\n",
    "    dcc.Store(id='map-center-store', data=(latitude, longitude))\n",
    "    ],\n",
    ")\n",
    "\n",
    "if __name__ == '__main__':\n",
    "    app.run()"
   ]
  }
 ],
 "metadata": {
  "kernelspec": {
   "display_name": "Python 3",
   "language": "python",
   "name": "python3"
  },
  "language_info": {
   "codemirror_mode": {
    "name": "ipython",
    "version": 3
   },
   "file_extension": ".py",
   "mimetype": "text/x-python",
   "name": "python",
   "nbconvert_exporter": "python",
   "pygments_lexer": "ipython3",
   "version": "3.10.11"
  }
 },
 "nbformat": 4,
 "nbformat_minor": 2
}
