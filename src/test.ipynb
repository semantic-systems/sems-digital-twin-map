{
 "cells": [
  {
   "cell_type": "code",
   "execution_count": 1,
   "metadata": {},
   "outputs": [],
   "source": [
    "from data.connect import autoconnect_db\n",
    "from data.model import Collection\n",
    "from data.req_nina import *\n",
    "\n",
    "from datetime import datetime\n",
    "import requests"
   ]
  },
  {
   "cell_type": "code",
   "execution_count": 2,
   "metadata": {},
   "outputs": [],
   "source": [
    "engine, session = autoconnect_db()"
   ]
  },
  {
   "cell_type": "code",
   "execution_count": 9,
   "metadata": {},
   "outputs": [],
   "source": [
    "def print_collection(collection: Collection):\n",
    "    print(f\"name: {collection.name}\")\n",
    "    print(f\"url_items: {collection.url_items}\") \n",
    "    print(f\"url_collection: {collection.url_collection}\")\n",
    "    print(f\"entries: {collection.entries}\")\n",
    "    # print(f\"last_updated: {collection.last_updated}\")\n",
    "    print(f\"dataset_id: {collection.dataset_id}\")"
   ]
  },
  {
   "cell_type": "code",
   "execution_count": 10,
   "metadata": {},
   "outputs": [
    {
     "name": "stdout",
     "output_type": "stream",
     "text": [
      "name: Perspektive Wohnen\n",
      "url_items: https://api.hamburg.de/datasets/v1/perspektive_wohnen/collections/perspektive_wohnen_bestehend/items?f=json\n",
      "url_collection: https://api.hamburg.de/datasets/v1/perspektive_wohnen/collections/perspektive_wohnen_bestehend\n",
      "entries: 15\n",
      "last_updated: None\n",
      "dataset_id: 1\n"
     ]
    }
   ],
   "source": [
    "# get the first collection\n",
    "collection = session.query(Collection).first()\n",
    "print_collection(collection)"
   ]
  },
  {
   "cell_type": "code",
   "execution_count": 36,
   "metadata": {},
   "outputs": [],
   "source": [
    "def request_items(collection: Collection, verbose=True):\n",
    "    \"\"\"\n",
    "    Takes in a Collection object from the database and requests the dataset items from the API.\n",
    "    Returns the GeoJSON response from the API or None if the request failed.\n",
    "    \"\"\"\n",
    "\n",
    "    url_items = collection.url_items\n",
    "    entries = collection.entries\n",
    "    last_updated = collection.last_updated\n",
    "\n",
    "    last_updated = datetime(2024, 1, 23, 13, 30)\n",
    "\n",
    "    # only request items if they were updated since the last request\n",
    "    str_modified_since = last_updated.strftime(\"%a, %d %b %Y %H:%M:%S GMT\")\n",
    "\n",
    "    # the header we send with our requests\n",
    "    headers = {\n",
    "        \"If-Modified-Since\": str_modified_since\n",
    "    }\n",
    "\n",
    "    print(headers)\n",
    "\n",
    "    # also add the limit parameter to the url\n",
    "    # it controls how many items are returned\n",
    "    # TODO: if the number of items is large, make multiple smaller requests\n",
    "\n",
    "    url_items = url_items + f\"&limit={entries}\"\n",
    "    response = requests.get(url_items, headers=headers)\n",
    "\n",
    "    print(response.text)\n",
    "\n",
    "    if response.status_code == 304:\n",
    "        if verbose: print(f\"Items not modified since last request ({str_modified_since})\")\n",
    "        return None\n",
    "\n",
    "    if response.status_code == 200:\n",
    "\n",
    "        response_json = response.json()\n",
    "        if verbose: print(f\"{response_json[\"numberMatched\"]} items returned from {response_json[\"numberReturned\"]}\")\n",
    "\n",
    "        return response_json\n",
    "    \n",
    "    return None"
   ]
  },
  {
   "cell_type": "code",
   "execution_count": 37,
   "metadata": {},
   "outputs": [
    {
     "name": "stdout",
     "output_type": "stream",
     "text": [
      "{'If-Modified-Since': 'Tue, 23 Jan 2024 13:30:00 GMT'}\n",
      "{\"type\":\"FeatureCollection\",\"numberReturned\":15,\"numberMatched\":15,\"timeStamp\":\"2024-01-23T13:45:03Z\",\"features\":[{\"type\":\"Feature\",\"id\":13224,\"geometry\":{\"type\":\"Point\",\"coordinates\":[9.772798635523914,53.58288908024231]},\"properties\":{\"bezeichnung\":\"Suurheid\",\"bezirk\":\"Altona\",\"stadtteil\":\"Rissen\",\"platzzahl\":300,\"platzzahl_hinweis\":\"Bei den Platzzahlen handelt es sich um die Normalkapazität. Der tatsächliche Belegungsstand kann abweichen, z.B. aufgrund noch durchzuführender baulicher Maßnahmen.\",\"bemerkung\":\". Für Standorte der Perspektive Wohnen finden Sie hier weitere Informationen:\",\"bemerkung_link\":\"http://www.hamburg.de/pressearchiv-fhh/4612224/2015-10-06-bsw-fluechtlingsunterkuenfte-perspektive-wohnen/\",\"inbetriebnahme\":\"2018\"}},{\"type\":\"Feature\",\"id\":13234,\"geometry\":{\"type\":\"Point\",\"coordinates\":[9.901888774772415,53.619390265137596]},\"properties\":{\"bezeichnung\":\"Oliver-Lißy-Strasse\",\"bezirk\":\"Eimsbüttel\",\"stadtteil\":\"Eidelstedt\",\"platzzahl\":300,\"platzzahl_hinweis\":\"Bei den Platzzahlen handelt es sich um die Normalkapazität. Der tatsächliche Belegungsstand kann abweichen, z.B. aufgrund noch durchzuführender baulicher Maßnahmen.\",\"bemerkung\":\". Für Standorte der Perspektive Wohnen finden Sie hier weitere Informationen:\",\"bemerkung_link\":\"http://www.hamburg.de/pressearchiv-fhh/4612224/2015-10-06-bsw-fluechtlingsunterkuenfte-perspektive-wohnen/\",\"inbetriebnahme\":\"2018\"}},{\"type\":\"Feature\",\"id\":13255,\"geometry\":{\"type\":\"Point\",\"coordinates\":[10.019244460346117,53.639775905639574]},\"properties\":{\"bezeichnung\":\"Flughafenstraße\",\"bezirk\":\"Nord\",\"stadtteil\":\"Fuhlsbüttel\",\"platzzahl\":570,\"platzzahl_hinweis\":\"Bei den Platzzahlen handelt es sich um die Normalkapazität. Der tatsächliche Belegungsstand kann abweichen, z.B. aufgrund noch durchzuführender baulicher Maßnahmen.\",\"bemerkung\":\". Für Standorte der Perspektive Wohnen finden Sie hier weitere Informationen:\",\"bemerkung_link\":\"http://www.hamburg.de/pressearchiv-fhh/4612224/2015-10-06-bsw-fluechtlingsunterkuenfte-perspektive-wohnen/\",\"inbetriebnahme\":\"2018\"}},{\"type\":\"Feature\",\"id\":13279,\"geometry\":{\"type\":\"Point\",\"coordinates\":[10.134438570466502,53.564160598391105]},\"properties\":{\"bezeichnung\":\"Kalmusweg\",\"bezirk\":\"Mitte\",\"stadtteil\":\"Billstedt\",\"platzzahl\":66,\"platzzahl_hinweis\":\"Bei den Platzzahlen handelt es sich um die Normalkapazität. Der tatsächliche Belegungsstand kann abweichen, z.B. aufgrund noch durchzuführender baulicher Maßnahmen.\",\"bemerkung\":\". Für Standorte der Perspektive Wohnen finden Sie hier weitere Informationen:\",\"bemerkung_link\":\"http://www.hamburg.de/pressearchiv-fhh/4612224/2015-10-06-bsw-fluechtlingsunterkuenfte-perspektive-wohnen/\",\"inbetriebnahme\":\"2019\"}},{\"type\":\"Feature\",\"id\":13282,\"geometry\":{\"type\":\"Point\",\"coordinates\":[10.13462285483318,53.49488869549088]},\"properties\":{\"bezeichnung\":\"Am Gleisdreieck\",\"bezirk\":\"Bergedorf\",\"stadtteil\":\"Billwerder\",\"platzzahl\":1031,\"platzzahl_hinweis\":\"Bei den Platzzahlen handelt es sich um die Normalkapazität. Der tatsächliche Belegungsstand kann abweichen, z.B. aufgrund noch durchzuführender baulicher Maßnahmen.\",\"bemerkung\":\". Für Standorte der Perspektive Wohnen finden Sie hier weitere Informationen:\",\"bemerkung_link\":\"http://www.hamburg.de/pressearchiv-fhh/4612224/2015-10-06-bsw-fluechtlingsunterkuenfte-perspektive-wohnen/\",\"inbetriebnahme\":\"2016\"}},{\"type\":\"Feature\",\"id\":13298,\"geometry\":{\"type\":\"Point\",\"coordinates\":[10.083861451725515,53.66875882388557]},\"properties\":{\"bezeichnung\":\"Ohlendiekshöhe\",\"bezirk\":\"Wandsbek\",\"stadtteil\":\"Poppenbüttel\",\"platzzahl\":300,\"platzzahl_hinweis\":\"Bei den Platzzahlen handelt es sich um die Normalkapazität. Der tatsächliche Belegungsstand kann abweichen, z.B. aufgrund noch durchzuführender baulicher Maßnahmen.\",\"bemerkung\":\". Für Standorte der Perspektive Wohnen finden Sie hier weitere Informationen:\",\"bemerkung_link\":\"http://www.hamburg.de/pressearchiv-fhh/4612224/2015-10-06-bsw-fluechtlingsunterkuenfte-perspektive-wohnen/\",\"inbetriebnahme\":\"2017\"}},{\"type\":\"Feature\",\"id\":13300,\"geometry\":{\"type\":\"Point\",\"coordinates\":[9.91301576264564,53.61227798224417]},\"properties\":{\"bezeichnung\":\"Duvenacker\",\"bezirk\":\"Eimsbüttel\",\"stadtteil\":\"Eidelstedt\",\"platzzahl\":265,\"platzzahl_hinweis\":\"Bei den Platzzahlen handelt es sich um die Normalkapazität. Der tatsächliche Belegungsstand kann abweichen, z.B. aufgrund noch durchzuführender baulicher Maßnahmen.\",\"bemerkung\":\". Für Standorte der Perspektive Wohnen finden Sie hier weitere Informationen:\",\"bemerkung_link\":\"http://www.hamburg.de/pressearchiv-fhh/4612224/2015-10-06-bsw-fluechtlingsunterkuenfte-perspektive-wohnen/\",\"inbetriebnahme\":\"2017\"}},{\"type\":\"Feature\",\"id\":13301,\"geometry\":{\"type\":\"Point\",\"coordinates\":[9.901210507190873,53.558906248999676]},\"properties\":{\"bezeichnung\":\"Baurstraße\",\"bezirk\":\"Altona\",\"stadtteil\":\"Othmarschen\",\"platzzahl\":178,\"platzzahl_hinweis\":\"Bei den Platzzahlen handelt es sich um die Normalkapazität. Der tatsächliche Belegungsstand kann abweichen, z.B. aufgrund noch durchzuführender baulicher Maßnahmen.\",\"bemerkung\":\". Für Standorte der Perspektive Wohnen finden Sie hier weitere Informationen:\",\"bemerkung_link\":\"http://www.hamburg.de/pressearchiv-fhh/4612224/2015-10-06-bsw-fluechtlingsunterkuenfte-perspektive-wohnen/\",\"inbetriebnahme\":\"2021\"}},{\"type\":\"Feature\",\"id\":13326,\"geometry\":{\"type\":\"Point\",\"coordinates\":[10.05484376111923,53.6513435619634]},\"properties\":{\"bezeichnung\":\"Butterbauernstieg\",\"bezirk\":\"Wandsbek\",\"stadtteil\":\"Hummelsbüttel\",\"platzzahl\":300,\"platzzahl_hinweis\":\"Bei den Platzzahlen handelt es sich um die Normalkapazität. Der tatsächliche Belegungsstand kann abweichen, z.B. aufgrund noch durchzuführender baulicher Maßnahmen.\",\"bemerkung\":\". Für Standorte der Perspektive Wohnen finden Sie hier weitere Informationen:\",\"bemerkung_link\":\"http://www.hamburg.de/pressearchiv-fhh/4612224/2015-10-06-bsw-fluechtlingsunterkuenfte-perspektive-wohnen/\",\"inbetriebnahme\":\"2018\"}},{\"type\":\"Feature\",\"id\":13327,\"geometry\":{\"type\":\"Point\",\"coordinates\":[10.118636630004028,53.56750234722167]},\"properties\":{\"bezeichnung\":\"Raja-Ilinauk-Straße\",\"bezirk\":\"Wandsbek\",\"stadtteil\":\"Jenfeld\",\"platzzahl\":800,\"platzzahl_hinweis\":\"Bei den Platzzahlen handelt es sich um die Normalkapazität. Der tatsächliche Belegungsstand kann abweichen, z.B. aufgrund noch durchzuführender baulicher Maßnahmen.\",\"bemerkung\":\". Für Standorte der Perspektive Wohnen finden Sie hier weitere Informationen:\",\"bemerkung_link\":\"http://www.hamburg.de/pressearchiv-fhh/4612224/2015-10-06-bsw-fluechtlingsunterkuenfte-perspektive-wohnen/\",\"inbetriebnahme\":\"2016\"}},{\"type\":\"Feature\",\"id\":13333,\"geometry\":{\"type\":\"Point\",\"coordinates\":[9.843804128169895,53.47770994013871]},\"properties\":{\"bezeichnung\":\"Plaggenmoor\",\"bezirk\":\"Harburg\",\"stadtteil\":\"Neugraben-Fischbek\",\"platzzahl\":198,\"platzzahl_hinweis\":\"Bei den Platzzahlen handelt es sich um die Normalkapazität. Der tatsächliche Belegungsstand kann abweichen, z.B. aufgrund noch durchzuführender baulicher Maßnahmen.\",\"bemerkung\":\". Für Standorte der Perspektive Wohnen finden Sie hier weitere Informationen:\",\"bemerkung_link\":\"http://www.hamburg.de/pressearchiv-fhh/4612224/2015-10-06-bsw-fluechtlingsunterkuenfte-perspektive-wohnen/\",\"inbetriebnahme\":\"2018\"}},{\"type\":\"Feature\",\"id\":13334,\"geometry\":{\"type\":\"Point\",\"coordinates\":[10.036306063330144,53.552077220835976]},\"properties\":{\"bezeichnung\":\"Eiffestraße\",\"bezirk\":\"Mitte\",\"stadtteil\":\"Borgfelde\",\"platzzahl\":733,\"platzzahl_hinweis\":\"Bei den Platzzahlen handelt es sich um die Normalkapazität. Der tatsächliche Belegungsstand kann abweichen, z.B. aufgrund noch durchzuführender baulicher Maßnahmen.\",\"bemerkung\":\". Für Standorte der Perspektive Wohnen finden Sie hier weitere Informationen:\",\"bemerkung_link\":\"http://www.hamburg.de/pressearchiv-fhh/4612224/2015-10-06-bsw-fluechtlingsunterkuenfte-perspektive-wohnen/\",\"inbetriebnahme\":\"2019\"}},{\"type\":\"Feature\",\"id\":13341,\"geometry\":{\"type\":\"Point\",\"coordinates\":[10.134593132377315,53.56429396873496]},\"properties\":{\"bezeichnung\":\"Am Öjendorfer See\",\"bezirk\":\"Mitte\",\"stadtteil\":\"Billstedt\",\"platzzahl\":176,\"platzzahl_hinweis\":\"Bei den Platzzahlen handelt es sich um die Normalkapazität. Der tatsächliche Belegungsstand kann abweichen, z.B. aufgrund noch durchzuführender baulicher Maßnahmen.\",\"bemerkung\":\". Für Standorte der Perspektive Wohnen finden Sie hier weitere Informationen:\",\"bemerkung_link\":\"http://www.hamburg.de/pressearchiv-fhh/4612224/2015-10-06-bsw-fluechtlingsunterkuenfte-perspektive-wohnen/\",\"inbetriebnahme\":\"2019\"}},{\"type\":\"Feature\",\"id\":13342,\"geometry\":{\"type\":\"Point\",\"coordinates\":[10.134593132377315,53.56429396873496]},\"properties\":{\"bezeichnung\":\"Zur Kräuterwiese\",\"bezirk\":\"Mitte\",\"stadtteil\":\"Billstedt\",\"platzzahl\":552,\"platzzahl_hinweis\":\"Bei den Platzzahlen handelt es sich um die Normalkapazität. Der tatsächliche Belegungsstand kann abweichen, z.B. aufgrund noch durchzuführender baulicher Maßnahmen.\",\"bemerkung\":\". Für Standorte der Perspektive Wohnen finden Sie hier weitere Informationen:\",\"bemerkung_link\":\"http://www.hamburg.de/pressearchiv-fhh/4612224/2015-10-06-bsw-fluechtlingsunterkuenfte-perspektive-wohnen/\",\"inbetriebnahme\":\"2019\"}},{\"type\":\"Feature\",\"id\":13343,\"geometry\":{\"type\":\"Point\",\"coordinates\":[10.134593132377315,53.56429396873496]},\"properties\":{\"bezeichnung\":\"Am Öjendorfer See \",\"bezirk\":\"Mitte\",\"stadtteil\":\"Billstedt\",\"platzzahl\":168,\"platzzahl_hinweis\":\"Bei den Platzzahlen handelt es sich um die Normalkapazität. Der tatsächliche Belegungsstand kann abweichen, z.B. aufgrund noch durchzuführender baulicher Maßnahmen.\",\"bemerkung\":\". Für Standorte der Perspektive Wohnen finden Sie hier weitere Informationen:\",\"bemerkung_link\":\"http://www.hamburg.de/pressearchiv-fhh/4612224/2015-10-06-bsw-fluechtlingsunterkuenfte-perspektive-wohnen/\",\"inbetriebnahme\":\"2020\"}}],\"links\":[{\"href\":\"https://api.hamburg.de/datasets/v1/perspektive_wohnen/collections/perspektive_wohnen_bestehend/items?limit=15&f=json\",\"rel\":\"self\",\"type\":\"application/geo+json\",\"title\":\"This document\"},{\"href\":\"https://api.hamburg.de/datasets/v1/perspektive_wohnen/collections/perspektive_wohnen_bestehend/items?limit=15&f=html\",\"rel\":\"alternate\",\"type\":\"text/html\",\"title\":\"This document as HTML\"},{\"href\":\"https://api.hamburg.de/datasets/v1/perspektive_wohnen/collections/perspektive_wohnen_bestehend/items?f=json&limit=15&offset=15\",\"rel\":\"next\",\"type\":\"application/geo+json\",\"title\":\"Next page\"}]}\n",
      "15 items returned from 15\n"
     ]
    }
   ],
   "source": [
    "it = request_items(collection, verbose=True)"
   ]
  },
  {
   "cell_type": "code",
   "execution_count": null,
   "metadata": {},
   "outputs": [],
   "source": [
    "session.close()"
   ]
  },
  {
   "cell_type": "code",
   "execution_count": 2,
   "metadata": {},
   "outputs": [
    {
     "name": "stdout",
     "output_type": "stream",
     "text": [
      "https://warnung.bund.de/api31/dashboard/033600000000.json\n",
      "<Response [200]>\n"
     ]
    }
   ],
   "source": [
    "# get data from the nina api\n",
    "base_url = \"https://warnung.bund.de/api31/\"\n",
    "service = \"dashboard/\"\n",
    "\n",
    "# amtlicher regionalschlüssel: https://www.penultima.de/ars/\n",
    "ars = \"033600000000\"  # ars for hamburg\n",
    "\n",
    "# get the data\n",
    "url = f\"{base_url}{service}{ars}.json\"\n",
    "print(url)\n",
    "response = requests.get(url)\n",
    "\n",
    "print(response)"
   ]
  },
  {
   "cell_type": "code",
   "execution_count": 8,
   "metadata": {},
   "outputs": [],
   "source": [
    "def display_alert(alert):\n",
    "    payload = alert[\"payload\"]\n",
    "    id = payload[\"id\"]\n",
    "    hash = payload[\"hash\"]\n",
    "    data = payload[\"data\"]\n",
    "\n",
    "    headline_de = data[\"headline\"]\n",
    "    provider = data[\"provider\"]\n",
    "    severity = data[\"severity\"]\n",
    "    urgency = data[\"urgency\"]\n",
    "    msgType = data[\"msgType\"]\n",
    "    area = data[\"area\"]\n",
    "    valid = data[\"valid\"]\n",
    "\n",
    "    headline_en = alert[\"i18nTitle\"][\"en\"]\n",
    "\n",
    "    time_sent = alert[\"sent\"]\n",
    "    time_onset = alert[\"onset\"]\n",
    "    time_expires = alert[\"expires\"]\n",
    "    time_effective = alert[\"effective\"]\n",
    "\n",
    "    print(f\"ID: {id}\\nHash: {hash}\\nHeadline DE: {headline_de}\\nProvider: {provider}\\nSeverity: {severity}\\nUrgency: {urgency}\\nMessage Type: {msgType}\\nArea: {area}\\nValid: {valid}\\nHeadline EN: {headline_en}\\nTime Sent: {time_sent}\\nTime Onset: {time_onset}\\nTime Expires: {time_expires}\\nTime Effective: {time_effective}\\n{\"-\"*50}\")"
   ]
  },
  {
   "cell_type": "code",
   "execution_count": 14,
   "metadata": {},
   "outputs": [
    {
     "name": "stdout",
     "output_type": "stream",
     "text": [
      "- Hochwasserinformation zur Abflusslage für das Flussgebiet Aller: Es liegt eine Warninformation vom 08.02.2024 16:27 Uhr vor, die auf www.pegelonline.nlwkn.niedersachsen.de zu finden ist.\n"
     ]
    }
   ],
   "source": [
    "# aktuelle Warnmeldungen abrufen nach Gebietscode\n",
    "response = requests.get(base_url + \"/dashboard/\" + ars + \".json\") # TODO: hier pruefen, ob Abruf erfolgreich war\n",
    "\n",
    "# wenn Abruf erfolgreich war, erhalten wir ein JSON\n",
    "warnungen = response.json()\n",
    "\n",
    "# iteriere über alle Warnmeldungen\n",
    "for warnung in warnungen:\n",
    "    # Der Dashboard-Abruf enthält nur eine Kurzform der Warnmeldung\n",
    "    # Deshalb rufen wir hier die Details ab:\n",
    "    id = warnung[\"payload\"][\"id\"]\n",
    "    warning_details = requests.get(base_url + \"/warnings/\" + id + \".json\").json() # TODO: Fehlerbehandlung ergaenzen\n",
    "    # headline und description Felder aus dem JSON fuer die Ausgabe zusammensetzen\n",
    "    meldungs_text = warning_details[\"info\"][0][\"headline\"] + \": \" + warning_details[\"info\"][0][\"description\"]\n",
    "    print(\"- \" + meldungs_text)"
   ]
  },
  {
   "cell_type": "markdown",
   "metadata": {},
   "source": [
    "Example Nina response:\n",
    "```json\n",
    "[\n",
    "  {\n",
    "    \"id\": \"lhp.LHP.NI.ni_NI_15408\",\n",
    "    \"payload\": {\n",
    "      \"version\": 5,\n",
    "      \"type\": \"ALERT\",\n",
    "      \"id\": \"lhp.LHP.NI.ni_NI_15408\",\n",
    "      \"hash\": \"392f2a833cc1045070a4d9ab24701a9731c897e27769565b0cb69080a5680d76\",\n",
    "      \"data\": {\n",
    "        \"headline\": \"Hochwasserinformation zur Abflusslage für das Flussgebiet Aller\",\n",
    "        \"provider\": \"LHP\",\n",
    "        \"severity\": \"Moderate\",\n",
    "        \"urgency\": \"Immediate\",\n",
    "        \"msgType\": \"Alert\",\n",
    "        \"area\": {\n",
    "          \"type\": \"ZGEM\",\n",
    "          \"data\": \"110+1,115+1,166+9,319+1,322+3,327+3,334+1,381,387,391,393+1,396+17,415+1,468+8,482+1,485,491+2,528,530+4,536+26,564+2,568+18,588+3,593+12,609,612,775,780,928\"\n",
    "        },\n",
    "        \"valid\": true\n",
    "      }\n",
    "    },\n",
    "    \"i18nTitle\": {\n",
    "      \"de\": \"Hochwasserinformation zur Abflusslage für das Flussgebiet Aller\"\n",
    "    },\n",
    "    \"sent\": \"2024-02-08T16:33:01+01:00\",\n",
    "    \"onset\": \"2024-02-08T16:27:00+01:00\",\n",
    "    \"effective\": \"2024-02-08T16:27:00+01:00\"\n",
    "  }\n",
    "]\n",
    "```\n",
    "\n",
    "You can then request further information from:\n",
    "https://warnung.bund.de/api31/warnings/lhp.LHP.NI.ni_NI_15408.json\n",
    "```json\n",
    "{\n",
    "  \"identifier\": \"lhp.LHP.NI.ni_NI_15408\",\n",
    "  \"sender\": \"HWVZ@nlwkn.niedersachsen.de\",\n",
    "  \"sent\": \"2024-02-08T16:33:01+01:00\",\n",
    "  \"status\": \"Actual\",\n",
    "  \"msgType\": \"Alert\",\n",
    "  \"scope\": \"Public\",\n",
    "  \"code\": [\n",
    "    \"DVN:5\"\n",
    "  ],\n",
    "  \"info\": [\n",
    "    {\n",
    "      \"language\": \"de-DE\",\n",
    "      \"category\": [\n",
    "        \"Met\"\n",
    "      ],\n",
    "      \"event\": \"Flood\",\n",
    "      \"responseType\": [\n",
    "        \"None\"\n",
    "      ],\n",
    "      \"urgency\": \"Immediate\",\n",
    "      \"severity\": \"Moderate\",\n",
    "      \"certainty\": \"Observed\",\n",
    "      \"effective\": \"2024-02-08T16:27:00+01:00\",\n",
    "      \"onset\": \"2024-02-08T16:27:00+01:00\",\n",
    "      \"senderName\": \"Niedersächsischer Landesbetrieb für Wasserwirtschaft, Küsten- und Naturschutz\",\n",
    "      \"headline\": \"Hochwasserinformation zur Abflusslage für das Flussgebiet Aller\",\n",
    "      \"description\": \"Es liegt eine Warninformation vom 08.02.2024 16:27 Uhr vor, die auf www.pegelonline.nlwkn.niedersachsen.de zu finden ist.\",\n",
    "      \"web\": \"https://www.pegelonline.nlwkn.niedersachsen.de/Start\",\n",
    "      \"contact\": \"Niedersächsischer Landesbetrieb für Wasserwirtschaft, Küsten- und Naturschutz\",\n",
    "      \"parameter\": [\n",
    "        {\n",
    "          \"valueName\": \"PHGEM\",\n",
    "          \"value\": \"110+1,115+1,166+9,319+1,322+3,327+3,334+1,381,387,391,393+1,396+17,415+1,468+8,482+1,485,491+2,528,530+4,536+26,564+2,568+18,588+3,593+12,609,612,775,780,928\"\n",
    "        },\n",
    "        {\n",
    "          \"valueName\": \"ZGEM\",\n",
    "          \"value\": \"110+1,115+1,166+9,319+1,322+3,327+3,334+1,381,387,391,393+1,396+17,415+1,468+8,482+1,485,491+2,528,530+4,536+26,564+2,568+18,588+3,593+12,609,612,775,780,928\"\n",
    "        }\n",
    "      ],\n",
    "      \"area\": [\n",
    "        {\n",
    "          \"areaDesc\": \"Flussgebiet Aller in Niedersachsen\",\n",
    "          \"geocode\": [\n",
    "            {\n",
    "              \"valueName\": \"AreaId\",\n",
    "              \"value\": \"0\"\n",
    "            }\n",
    "          ]\n",
    "        }\n",
    "      ]\n",
    "    }\n",
    "  ]\n",
    "}\n",
    "```"
   ]
  },
  {
   "cell_type": "code",
   "execution_count": 4,
   "metadata": {},
   "outputs": [
    {
     "name": "stdout",
     "output_type": "stream",
     "text": [
      "https://warnung.bund.de/api31/dashboard/033600000000.json\n",
      "200\n"
     ]
    }
   ],
   "source": [
    "alerts = get_alerts()\n",
    "a = create_alert(alerts[0])"
   ]
  },
  {
   "cell_type": "code",
   "execution_count": 14,
   "metadata": {},
   "outputs": [
    {
     "data": {
      "text/plain": [
       "datetime.datetime(2024, 2, 8, 16, 27, tzinfo=datetime.timezone(datetime.timedelta(seconds=3600)))"
      ]
     },
     "execution_count": 14,
     "metadata": {},
     "output_type": "execute_result"
    }
   ],
   "source": [
    "a.time_effective"
   ]
  },
  {
   "cell_type": "code",
   "execution_count": 4,
   "metadata": {},
   "outputs": [
    {
     "name": "stdout",
     "output_type": "stream",
     "text": [
      "1 existing alerts\n",
      "Comparing against time 2024-02-17 21:04:44.314261\n",
      "alert time 2024-02-08 15:33:01\n",
      "['392f2a833cc1045070a4d9ab24701a9731c897e27769565b0cb69080a5680d76']\n",
      "Recieved duplicate alert, skipping... (hash=392f2a833cc1045070a4d9ab24701a9731c897e27769565b0cb69080a5680d76)\n"
     ]
    },
    {
     "data": {
      "text/plain": [
       "[]"
      ]
     },
     "execution_count": 4,
     "metadata": {},
     "output_type": "execute_result"
    }
   ],
   "source": [
    "save_alerts()"
   ]
  }
 ],
 "metadata": {
  "kernelspec": {
   "display_name": "Python 3",
   "language": "python",
   "name": "python3"
  },
  "language_info": {
   "codemirror_mode": {
    "name": "ipython",
    "version": 3
   },
   "file_extension": ".py",
   "mimetype": "text/x-python",
   "name": "python",
   "nbconvert_exporter": "python",
   "pygments_lexer": "ipython3",
   "version": "3.12.1"
  }
 },
 "nbformat": 4,
 "nbformat_minor": 2
}
