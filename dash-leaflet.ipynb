{
 "cells": [
  {
   "cell_type": "code",
   "execution_count": 1,
   "metadata": {},
   "outputs": [],
   "source": [
    "from dash import Dash, html\n",
    "import dash_leaflet as dl\n",
    "\n",
    "from database import Base, FeatureSet, Feature, Colormap, Style, connect_db\n",
    "from sqlalchemy import func\n",
    "from shapely.wkb import loads\n",
    "from shapely.geometry import shape, mapping\n",
    "from tqdm import tqdm"
   ]
  },
  {
   "cell_type": "markdown",
   "metadata": {},
   "source": [
    "Marker attributes:\n",
    "```\n",
    "alt, attribution, autoPan, autoPanOnFocus, autoPanPadding, autoPanSpeed, bubblingMouseEvents, children, clickData, dblclickData, disableDefaultEventHandlers, draggable, eventHandlers, icon, id, interactive, keyboard, loading_state, n_clicks, n_dblclicks, opacity, pane, position, riseOffset, riseOnHover, shadowPane, title, zIndexOffset\n",
    "```"
   ]
  },
  {
   "cell_type": "code",
   "execution_count": 10,
   "metadata": {},
   "outputs": [],
   "source": [
    "def style_to_dict(style):\n",
    "    \"\"\"\n",
    "    Convert a Style from the database to a dictionary that can be used by dash-leaflet\n",
    "    \"\"\"\n",
    "    style_dict = {\n",
    "        'color': style.color,\n",
    "        'fillColor': style.fill_color,\n",
    "        'weight': style.line_weight\n",
    "    }\n",
    "\n",
    "    return style_dict"
   ]
  },
  {
   "cell_type": "code",
   "execution_count": 2,
   "metadata": {},
   "outputs": [],
   "source": [
    "def create_marker(feature, style=None, popup=None) -> dl.Marker:\n",
    "\n",
    "    geometry = feature.geometry\n",
    "\n",
    "    x, y = func.ST_X(Feature.geometry), func.ST_Y(Feature.geometry)\n",
    "    position = (y, x) # Leaflet uses (lat, lon)\n",
    "\n",
    "    children = []\n",
    "\n",
    "    if style is not None:\n",
    "        icon = style.icon_name\n",
    "        icon_prefix = style.icon_prefix\n",
    "        color = style.color\n",
    "\n",
    "    if popup is not None:\n",
    "        children.append(dl.Popup(content=popup))\n",
    "\n",
    "    marker = dl.Marker(\n",
    "        position=position,\n",
    "        children=children\n",
    "        )\n",
    "\n",
    "    return marker"
   ]
  },
  {
   "cell_type": "code",
   "execution_count": 3,
   "metadata": {},
   "outputs": [],
   "source": [
    "def create_geojson(feature, style=None, popup=None) -> dl.GeoJSON:\n",
    "\n",
    "    children = []\n",
    "\n",
    "    if popup is not None:\n",
    "        children.append(dl.Popup(content=popup))\n",
    "    \n",
    "    if style is not None:\n",
    "        style_dict = style_to_dict(style)\n",
    "\n",
    "    return dl.GeoJSON(\n",
    "        data=feature,\n",
    "        style=style_dict,\n",
    "        children=children\n",
    "        )"
   ]
  },
  {
   "cell_type": "code",
   "execution_count": 4,
   "metadata": {},
   "outputs": [],
   "source": [
    "def feature_to_geojson(feature):\n",
    "    \"\"\"\n",
    "    Convert a Feature from the database to a GeoJSON Feature object\n",
    "    \"\"\"\n",
    "\n",
    "    properties = feature.properties\n",
    "    geometry_type = feature.geometry_type\n",
    "    feature_set = feature.feature_set\n",
    "\n",
    "    raw_geometry = feature.geometry.data\n",
    "    shape_geometry = loads(bytes(raw_geometry))\n",
    "    geojson_geometry = mapping(shape_geometry)\n",
    "\n",
    "    geojson =  {\n",
    "        \"type\": \"Feature\",\n",
    "        \"geometry\": geojson_geometry,\n",
    "        \"properties\": properties\n",
    "    }\n",
    "\n",
    "    return geojson"
   ]
  },
  {
   "cell_type": "code",
   "execution_count": 8,
   "metadata": {},
   "outputs": [],
   "source": [
    "app = Dash(\n",
    "    # external_stylesheets=[\n",
    "    #     'https://cdnjs.cloudflare.com/ajax/libs/font-awesome/5.15.4/css/all.min.css'\n",
    "    # ]\n",
    ")\n",
    "\n",
    "app.layout = html.Div([\n",
    "    dl.Map([\n",
    "        dl.LayersControl(\n",
    "            [\n",
    "                dl.BaseLayer(\n",
    "                    dl.TileLayer(),\n",
    "                    name='OpenStreetMap',\n",
    "                    checked=True\n",
    "                    )\n",
    "            ],\n",
    "            id='layer_control'\n",
    "        )\n",
    "    ], zoom=12, center=(53.55, 9.99), style={'width': '1000px', 'height': '500px'}),\n",
    "    html.Div(id=\"log\")\n",
    "])"
   ]
  },
  {
   "cell_type": "code",
   "execution_count": 9,
   "metadata": {},
   "outputs": [
    {
     "name": "stderr",
     "output_type": "stream",
     "text": [
      "100%|██████████| 15/15 [00:01<00:00,  8.50it/s]\n"
     ]
    },
    {
     "data": {
      "text/html": [
       "\n",
       "        <iframe\n",
       "            width=\"100%\"\n",
       "            height=\"650\"\n",
       "            src=\"http://127.0.0.1:8050/\"\n",
       "            frameborder=\"0\"\n",
       "            allowfullscreen\n",
       "            \n",
       "        ></iframe>\n",
       "        "
      ],
      "text/plain": [
       "<IPython.lib.display.IFrame at 0x26b4321e770>"
      ]
     },
     "metadata": {},
     "output_type": "display_data"
    }
   ],
   "source": [
    "# connect to the database\n",
    "engine, session = connect_db()\n",
    "\n",
    "# get the layers control\n",
    "# html.Div > dl.Map > dl.LayersControl\n",
    "layers_control = app.layout.children[0].children[0]\n",
    "\n",
    "# get all feature_sets\n",
    "# feature_sets = session.query(FeatureSet).all()\n",
    "\n",
    "# exclude the FeatureSet with the name Straße, very big dataset\n",
    "feature_sets = session.query(FeatureSet).filter(FeatureSet.name != \"Straße\").all()\n",
    "\n",
    "for feature_set in tqdm(feature_sets):\n",
    "\n",
    "    # get the features and style for this feature set\n",
    "    features = feature_set.features\n",
    "    style = feature_set.style\n",
    "\n",
    "    if style is None:\n",
    "        print(\"No style for feature set \" + feature_set.name + \". Skipping...\")\n",
    "        continue\n",
    "\n",
    "    # save all map objects of this feature_set in here\n",
    "    layer_group_children = []\n",
    "\n",
    "    # get the popup properties of this feature\n",
    "    popup_properties = style.popup_properties\n",
    "\n",
    "    for feature in features:\n",
    "\n",
    "        # get the properties for the popup\n",
    "        popup_content = f\"<b>{feature_set.name}</b><br>\"\n",
    "\n",
    "        for property in popup_properties:\n",
    "            current_property = popup_properties[property]\n",
    "            value = feature.properties.get(current_property, '')\n",
    "            popup_content += f\"<b>{property}</b>: {value}<br>\"\n",
    "\n",
    "        geometry_type = feature.geometry_type\n",
    "\n",
    "        if geometry_type.upper() == \"Point\":\n",
    "\n",
    "            # create a marker\n",
    "            marker = create_marker(feature, style, popup=popup_content)\n",
    "            layer_group_children.append(marker)\n",
    "        \n",
    "        else:\n",
    "\n",
    "            # create a geojson map object, shows a polygon\n",
    "            geojson_dict = feature_to_geojson(feature)\n",
    "            geojson = create_geojson(geojson_dict, style, popup=popup_content)\n",
    "            layer_group_children.append(geojson)\n",
    "    \n",
    "    # create a layer group for this feature set\n",
    "    layer_group = dl.LayerGroup(children=layer_group_children, id=feature_set.name)\n",
    "    overlay = dl.Overlay(layer_group, name=feature_set.name)\n",
    "    layers_control.children.append(overlay)\n",
    "        \n",
    "if __name__ == '__main__':\n",
    "    app.run_server(debug=True)"
   ]
  }
 ],
 "metadata": {
  "kernelspec": {
   "display_name": "Python 3",
   "language": "python",
   "name": "python3"
  },
  "language_info": {
   "codemirror_mode": {
    "name": "ipython",
    "version": 3
   },
   "file_extension": ".py",
   "mimetype": "text/x-python",
   "name": "python",
   "nbconvert_exporter": "python",
   "pygments_lexer": "ipython3",
   "version": "3.10.11"
  }
 },
 "nbformat": 4,
 "nbformat_minor": 2
}
