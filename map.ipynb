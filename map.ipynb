{
 "cells": [
  {
   "cell_type": "code",
   "execution_count": 22,
   "metadata": {},
   "outputs": [],
   "source": [
    "import folium\n",
    "from folium.plugins import MarkerCluster\n",
    "import os\n",
    "import json\n",
    "import branca.colormap as cm\n",
    "\n",
    "# database imports\n",
    "from sqlalchemy import create_engine, text, Column, Integer, String\n",
    "from sqlalchemy.orm import sessionmaker, declarative_base\n",
    "from geoalchemy2 import Geometry, WKTElement"
   ]
  },
  {
   "cell_type": "code",
   "execution_count": 20,
   "metadata": {},
   "outputs": [
    {
     "name": "stdout",
     "output_type": "stream",
     "text": [
      "2023-10-20 15:40:55,290 INFO sqlalchemy.engine.Engine select pg_catalog.version()\n",
      "2023-10-20 15:40:55,291 INFO sqlalchemy.engine.Engine [raw sql] {}\n",
      "2023-10-20 15:40:55,293 INFO sqlalchemy.engine.Engine select current_schema()\n",
      "2023-10-20 15:40:55,294 INFO sqlalchemy.engine.Engine [raw sql] {}\n",
      "2023-10-20 15:40:55,296 INFO sqlalchemy.engine.Engine show standard_conforming_strings\n",
      "2023-10-20 15:40:55,297 INFO sqlalchemy.engine.Engine [raw sql] {}\n",
      "2023-10-20 15:40:55,300 INFO sqlalchemy.engine.Engine BEGIN (implicit)\n",
      "2023-10-20 15:40:55,301 INFO sqlalchemy.engine.Engine CREATE EXTENSION IF NOT EXISTS postgis\n",
      "2023-10-20 15:40:55,301 INFO sqlalchemy.engine.Engine [generated in 0.00047s] {}\n"
     ]
    },
    {
     "data": {
      "text/plain": [
       "<sqlalchemy.engine.cursor.CursorResult at 0x296c7a32e60>"
      ]
     },
     "execution_count": 20,
     "metadata": {},
     "output_type": "execute_result"
    }
   ],
   "source": [
    "# connect to PostGIS\n",
    "password = \"rescuemate\" # TODO: change this later to something proper\n",
    "\n",
    "DATABASE_URL = \"postgresql+psycopg2://postgres:\" + password + \"@localhost:5432/postgres\"\n",
    "engine = create_engine(DATABASE_URL, echo=True)\n",
    "\n",
    "# Start a session\n",
    "Session = sessionmaker(bind=engine)\n",
    "session = Session()\n",
    "\n",
    "# activate postGIS if its not already enabled\n",
    "session.execute(text(\"CREATE EXTENSION IF NOT EXISTS postgis\"))"
   ]
  },
  {
   "cell_type": "code",
   "execution_count": 23,
   "metadata": {},
   "outputs": [
    {
     "name": "stdout",
     "output_type": "stream",
     "text": [
      "2023-10-20 15:44:30,290 INFO sqlalchemy.engine.Engine BEGIN (implicit)\n",
      "2023-10-20 15:44:30,293 INFO sqlalchemy.engine.Engine SELECT pg_catalog.pg_class.relname \n",
      "FROM pg_catalog.pg_class JOIN pg_catalog.pg_namespace ON pg_catalog.pg_namespace.oid = pg_catalog.pg_class.relnamespace \n",
      "WHERE pg_catalog.pg_class.relname = %(table_name)s AND pg_catalog.pg_class.relkind = ANY (ARRAY[%(param_1)s, %(param_2)s, %(param_3)s, %(param_4)s, %(param_5)s]) AND pg_catalog.pg_table_is_visible(pg_catalog.pg_class.oid) AND pg_catalog.pg_namespace.nspname != %(nspname_1)s\n",
      "2023-10-20 15:44:30,293 INFO sqlalchemy.engine.Engine [generated in 0.00055s] {'table_name': 'locations', 'param_1': 'r', 'param_2': 'p', 'param_3': 'f', 'param_4': 'v', 'param_5': 'm', 'nspname_1': 'pg_catalog'}\n",
      "2023-10-20 15:44:30,297 INFO sqlalchemy.engine.Engine COMMIT\n"
     ]
    }
   ],
   "source": [
    "# define a database model\n",
    "Base = declarative_base()\n",
    "\n",
    "class Location(Base):\n",
    "    __tablename__ = 'locations'\n",
    "    id = Column(Integer, primary_key=True)\n",
    "    name = Column(String)\n",
    "    address = Column(String)\n",
    "    coordinate = Column(Geometry('POINT'))\n",
    "\n",
    "Base.metadata.create_all(engine)"
   ]
  },
  {
   "cell_type": "markdown",
   "metadata": {},
   "source": [
    "# Handling data in PostGIS\n",
    "\n",
    "### Inserting\n",
    "**Single Record**:\n",
    "```python\n",
    "location1 = Location(name=\"Point A\", coordinate=\"POINT(0 0)\")\n",
    "session.add(location1)\n",
    "session.commit()\n",
    "```\n",
    "\n",
    "**Multiple Records**:\n",
    "```python\n",
    "locations_list = [\n",
    "    Location(name=\"Point B\", coordinate=\"POINT(1 1)\"),\n",
    "    Location(name=\"Point C\", coordinate=\"POINT(2 2)\")\n",
    "]\n",
    "session.add_all(locations_list)\n",
    "session.commit()\n",
    "```\n",
    "\n",
    "### Querying\n",
    "**Query all**:\n",
    "```python\n",
    "locations = session.query(Location).all()\n",
    "for location in locations:\n",
    "    print(location.name, location.coordinate)\n",
    "```\n",
    "\n",
    "**Query with filter**:\n",
    "```python\n",
    "point_b = session.query(Location).filter_by(name=\"Point B\").first()\n",
    "print(point_b.id, point_b.name, point_b.geom)\n",
    "```\n",
    "\n",
    "### Updating\n",
    "```python\n",
    "point_b.name = \"Point B Updated\"\n",
    "session.commit()\n",
    "```\n",
    "\n",
    "### Deleting\n",
    "**Single record**:\n",
    "```python\n",
    "session.delete(point_b)\n",
    "session.commit()\n",
    "```\n",
    "\n",
    "**All locations**:\n",
    "```python\n",
    "session.query(Location).delete()\n",
    "session.commit()\n",
    "```"
   ]
  },
  {
   "cell_type": "code",
   "execution_count": 24,
   "metadata": {},
   "outputs": [
    {
     "name": "stdout",
     "output_type": "stream",
     "text": [
      "2023-10-20 15:44:39,194 INFO sqlalchemy.engine.Engine INSERT INTO locations (name, address, location) SELECT p0::VARCHAR, p1::VARCHAR, p2::geometry(POINT,-1) FROM (VALUES (%(name__0)s, %(address__0)s, ST_GeomFromEWKT(%(location__0)s), 0), (%(name__1)s, %(address__1)s, ST_GeomFromEWKT(%(location__1)s), 1)) AS imp_sen(p0, p1, p2, sen_counter) ORDER BY sen_counter RETURNING locations.id, locations.id AS id__1\n",
      "2023-10-20 15:44:39,195 INFO sqlalchemy.engine.Engine [generated in 0.00010s (insertmanyvalues) 1/1 (ordered)] {'name__0': 'Point A', 'location__0': 'POINT(0 0)', 'address__0': None, 'name__1': 'Point B', 'location__1': 'POINT(1 1)', 'address__1': None}\n",
      "2023-10-20 15:44:39,199 INFO sqlalchemy.engine.Engine COMMIT\n"
     ]
    }
   ],
   "source": [
    "# Create some dummy data\n",
    "location1 = Location(name=\"Point A\", location=\"POINT(0 0)\")\n",
    "location2 = Location(name=\"Point B\", location=\"POINT(1 1)\")\n",
    "\n",
    "# Add the data to the session and commit\n",
    "session.add(location1)\n",
    "session.add(location2)\n",
    "session.commit()"
   ]
  },
  {
   "cell_type": "code",
   "execution_count": 27,
   "metadata": {},
   "outputs": [
    {
     "name": "stdout",
     "output_type": "stream",
     "text": [
      "2023-10-20 15:51:13,714 INFO sqlalchemy.engine.Engine BEGIN (implicit)\n",
      "2023-10-20 15:51:13,714 INFO sqlalchemy.engine.Engine SELECT locations.id AS locations_id, locations.name AS locations_name, locations.address AS locations_address, ST_AsEWKB(locations.location) AS locations_location \n",
      "FROM locations\n",
      "2023-10-20 15:51:13,715 INFO sqlalchemy.engine.Engine [cached since 393.5s ago] {}\n"
     ]
    }
   ],
   "source": [
    "# get all saved locations\n",
    "locations = session.query(Location).all()\n",
    "for loc in locations:\n",
    "    print(loc.id, loc.name, loc.location)"
   ]
  },
  {
   "cell_type": "code",
   "execution_count": 2,
   "metadata": {},
   "outputs": [],
   "source": [
    "# gather all geojson files\n",
    "# geojson files are located in their respective folders under data\n",
    "# files are then saved in a dictionary with the folder name as key\n",
    "\n",
    "# TODO: change this into a database query\n",
    "\n",
    "files = {}\n",
    "\n",
    "for root, dirs, filenames in os.walk('data'):\n",
    "    for f in filenames:\n",
    "\n",
    "        # get the folder name after data\\\n",
    "        # i.e. emobility_json or hafengebiets_json\n",
    "        folder = root.split('\\\\')[1]\n",
    "\n",
    "        # create a new list if the folder name is not in the dictionary\n",
    "        if folder not in files:\n",
    "            files[folder] = []\n",
    "        \n",
    "        # append the file name to the list\n",
    "        files[folder].append(f)"
   ]
  },
  {
   "cell_type": "code",
   "execution_count": 4,
   "metadata": {},
   "outputs": [],
   "source": [
    "# takes in a path to a file and returns the json object\n",
    "def load_json(json_path, encoding='utf-8'):\n",
    "    json_data = {}\n",
    "    with open(json_path, 'r', encoding=encoding) as settings_file:\n",
    "        json_data = json.load(settings_file)\n",
    "    return json_data"
   ]
  },
  {
   "cell_type": "markdown",
   "metadata": {},
   "source": [
    "## Possible colors for Folium:\n",
    "\n",
    "```{'lightgray', 'gray', 'beige', 'darkgreen', 'black', 'red', 'darkblue', 'darkred', 'lightblue', 'green', 'white', 'cadetblue', 'pink', 'lightred', 'lightgreen', 'darkpurple', 'purple', 'blue', 'orange'}```\n",
    "\n",
    "Or just use a hex color code, e.g. ```'#FF0000'```"
   ]
  },
  {
   "cell_type": "code",
   "execution_count": 5,
   "metadata": {},
   "outputs": [],
   "source": [
    "m = folium.Map(location=(53.55, 9.99), zoom_start=12)"
   ]
  },
  {
   "cell_type": "code",
   "execution_count": 6,
   "metadata": {},
   "outputs": [
    {
     "data": {
      "text/plain": [
       "<folium.map.LayerControl at 0x1971be49300>"
      ]
     },
     "execution_count": 6,
     "metadata": {},
     "output_type": "execute_result"
    }
   ],
   "source": [
    "for category, file_list in files.items():\n",
    "    \n",
    "    # Load the settings for this category if it exists.\n",
    "    settings_path = os.path.join('data', category, 'settings.json')\n",
    "    category_settings = load_json(settings_path) if os.path.exists(settings_path) else {}\n",
    "    \n",
    "    # Create a feature group for this category using the display_name from settings.\n",
    "    feature_group_name = category_settings.get('display_name', category.replace('_json', '').replace('_', ' ').title())\n",
    "    feature_group = folium.FeatureGroup(name=feature_group_name, show=False)\n",
    "\n",
    "    marker_cluster = None\n",
    "    \n",
    "    # display the feature groups on the map\n",
    "    for file_name in file_list:\n",
    "\n",
    "        # Skip the settings.json file.\n",
    "        if file_name == \"settings.json\":\n",
    "            continue\n",
    "        \n",
    "        # Only add files with coordinates in EPSG:4326 for compatibility.\n",
    "        if 'EPSG_4326' in file_name:\n",
    "            geojson_path = os.path.join('data', category, file_name)\n",
    "            geojson_data = load_json(geojson_path)\n",
    "            # print(\"Loaded\", geojson_path)\n",
    "            \n",
    "            file_settings = category_settings.get('files', {}).get(file_name, {})\n",
    "            popup_properties = file_settings.get('popup_properties', {})\n",
    "            \n",
    "            for feature in geojson_data['features']:\n",
    "\n",
    "                # compute the style for a geojson object\n",
    "                def compute_style_function(file_settings):\n",
    "                    \"\"\" Returns a style function configured with the given file settings. \"\"\"\n",
    "                    def compute_style(feature):\n",
    "                        # Default color from settings\n",
    "                        fillColor = file_settings.get('color', 'blue')\n",
    "                        color = file_settings.get('color', 'black')\n",
    "                        line_weight = file_settings.get('line_weight', 8)\n",
    "                        \n",
    "                        # If there's a colormap, compute the color based on feature value\n",
    "                        if file_settings.get('colormap', False):\n",
    "                            colormap_data = file_settings.get('colormap')\n",
    "                            colormap_property = colormap_data[\"property\"]\n",
    "                            feature_value = feature['properties'][colormap_property]\n",
    "                            colormap = cm.LinearColormap(colors=colormap_data[\"colors\"], vmin=colormap_data[\"vmin\"], vmax=colormap_data[\"vmax\"])\n",
    "                            color = colormap(feature_value)[:7]  # Remove alpha channel from color\n",
    "\n",
    "                        return {\n",
    "                            'fillColor': fillColor,\n",
    "                            'color': color,\n",
    "                            'weight': line_weight\n",
    "                        }\n",
    "                    return compute_style\n",
    "\n",
    "                # populate the popup content with the properties specified in settings\n",
    "                # The first line is the name of the marker\n",
    "                marker_name = file_settings.get('name', '')\n",
    "                popup_content = f'<b>{marker_name}</b><br>'\n",
    "\n",
    "                # Afterwards, each line is a property of the marker, as specified in settings.json\n",
    "                popup_content += '<br>'.join(\n",
    "                    [f\"<b>{display_name}</b>: {feature['properties'][internal_name]}\" for display_name, internal_name in popup_properties.items() if internal_name in feature['properties']]\n",
    "                )\n",
    "\n",
    "                feature_type = file_settings.get('type')\n",
    "                \n",
    "                # Add the feature to the map. Feature type is specified in settings.json\n",
    "                if feature_type == \"geojson\":\n",
    "\n",
    "                    style_function = compute_style_function(file_settings)\n",
    "\n",
    "                    folium.GeoJson(\n",
    "                        feature,\n",
    "                        style_function=style_function,\n",
    "                        tooltip=popup_content\n",
    "                    ).add_to(feature_group)\n",
    "                \n",
    "                elif feature_type == \"marker\":\n",
    "                    coords = feature['geometry']['coordinates']\n",
    "\n",
    "                    # get the icon data from settings.json\n",
    "                    icon = file_settings.get('icon', ''), \n",
    "                    icon_prefix = file_settings.get('icon-prefix', '')\n",
    "                    icon_color = file_settings.get('color', 'blue')\n",
    "\n",
    "                    folium.Marker(\n",
    "                        location=[coords[1], coords[0]],  # Swap coords for latitude and longitude\n",
    "                        popup=popup_content,\n",
    "                        icon=folium.Icon(icon=icon, prefix=icon_prefix, color=icon_color)\n",
    "                    ).add_to(feature_group)\n",
    "                \n",
    "                elif feature_type == \"marker-cluster\":\n",
    "\n",
    "                    if marker_cluster is None:\n",
    "                        marker_cluster = MarkerCluster().add_to(feature_group)\n",
    "\n",
    "                    coords = feature['geometry']['coordinates']\n",
    "\n",
    "                    # get the icon data from settings.json\n",
    "                    icon = file_settings.get('icon', ''), \n",
    "                    icon_prefix = file_settings.get('icon-prefix', '')\n",
    "                    icon_color = file_settings.get('color', 'blue')\n",
    "\n",
    "                    folium.Marker(\n",
    "                        location=[coords[1], coords[0]],  # Swap coords for latitude and longitude\n",
    "                        popup=popup_content,\n",
    "                        icon=folium.Icon(icon=icon, prefix=icon_prefix, color=icon_color)\n",
    "                    ).add_to(marker_cluster)\n",
    "                \n",
    "                elif feature_type == \"choropleth\":\n",
    "                    # TODO: Add choropleth logic here.\n",
    "                    pass\n",
    "\n",
    "    feature_group.add_to(m)\n",
    "\n",
    "folium.LayerControl().add_to(m)"
   ]
  },
  {
   "cell_type": "code",
   "execution_count": 7,
   "metadata": {},
   "outputs": [],
   "source": [
    "# m"
   ]
  },
  {
   "cell_type": "code",
   "execution_count": 8,
   "metadata": {},
   "outputs": [],
   "source": [
    "# save the map to an html file\n",
    "m.save('map.html')"
   ]
  }
 ],
 "metadata": {
  "kernelspec": {
   "display_name": "Python 3",
   "language": "python",
   "name": "python3"
  },
  "language_info": {
   "codemirror_mode": {
    "name": "ipython",
    "version": 3
   },
   "file_extension": ".py",
   "mimetype": "text/x-python",
   "name": "python",
   "nbconvert_exporter": "python",
   "pygments_lexer": "ipython3",
   "version": "3.10.11"
  }
 },
 "nbformat": 4,
 "nbformat_minor": 2
}
