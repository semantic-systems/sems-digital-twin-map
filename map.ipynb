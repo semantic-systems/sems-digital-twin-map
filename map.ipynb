{
 "cells": [
  {
   "cell_type": "code",
   "execution_count": 25,
   "metadata": {},
   "outputs": [],
   "source": [
    "import folium\n",
    "from folium.plugins import MarkerCluster\n",
    "import os\n",
    "import json\n",
    "import branca.colormap as cm"
   ]
  },
  {
   "cell_type": "code",
   "execution_count": 26,
   "metadata": {},
   "outputs": [],
   "source": [
    "# gather all geojson files\n",
    "# geojson files are located in their respective folders under data\n",
    "# files are then saved in a dictionary with the folder name as key\n",
    "\n",
    "files = {}\n",
    "\n",
    "for root, dirs, filenames in os.walk('data'):\n",
    "    for f in filenames:\n",
    "\n",
    "        # get the folder name after data\\\n",
    "        # i.e. emobility_json or hafengebiets_json\n",
    "        folder = root.split('\\\\')[1]\n",
    "\n",
    "        # create a new list if the folder name is not in the dictionary\n",
    "        if folder not in files:\n",
    "            files[folder] = []\n",
    "        \n",
    "        # append the file name to the list\n",
    "        files[folder].append(f)"
   ]
  },
  {
   "cell_type": "code",
   "execution_count": 27,
   "metadata": {},
   "outputs": [
    {
     "data": {
      "text/plain": [
       "{'bedrohte_gruppen_json': ['app_perspektive_wohnen_bestehend_EPSG_25832.json',\n",
       "  'app_perspektive_wohnen_bestehend_EPSG_4326.json',\n",
       "  'de_hh_up_nicht_staatliche_schulen_EPSG_25832.json',\n",
       "  'de_hh_up_nicht_staatliche_schulen_EPSG_4326.json',\n",
       "  'de_hh_up_staatliche_schulen_EPSG_25832.json',\n",
       "  'de_hh_up_staatliche_schulen_EPSG_4326.json',\n",
       "  'de_hh_up_vollstationaere_pflegeeinrichtungen_EPSG_25832.json',\n",
       "  'de_hh_up_vollstationaere_pflegeeinrichtungen_EPSG_4326.json',\n",
       "  'settings.json'],\n",
       " 'deichgrundgrenze_json': ['de_hh_up_deichgrundgrenze_EPSG_25832.json',\n",
       "  'de_hh_up_deichgrundgrenze_EPSG_4326.json',\n",
       "  'settings.json'],\n",
       " 'emobility_json': ['app_stromnetz_emobility_EPSG_25832.json',\n",
       "  'app_stromnetz_emobility_EPSG_4326.json',\n",
       "  'settings.json'],\n",
       " 'feuerwehrstandorte_json': ['de_hh_up_berufsfeuerwehr_EPSG_25832.json',\n",
       "  'de_hh_up_berufsfeuerwehr_EPSG_4326.json',\n",
       "  'de_hh_up_freiwillige_feuerwehr_EPSG_25832.json',\n",
       "  'de_hh_up_freiwillige_feuerwehr_EPSG_4326.json',\n",
       "  'settings.json'],\n",
       " 'gewaesser_einzugsgebiete_json': ['de_hh_up_einzugsgebiete_4_ordnung_EPSG_25832.json',\n",
       "  'de_hh_up_einzugsgebiete_4_ordnung_EPSG_4326.json',\n",
       "  'de_hh_up_einzugsgebiete_5_ordnung_EPSG_25832.json',\n",
       "  'de_hh_up_einzugsgebiete_5_ordnung_EPSG_4326.json',\n",
       "  'de_hh_up_einzugsgebiete_6_ordnung_EPSG_25832.json',\n",
       "  'de_hh_up_einzugsgebiete_6_ordnung_EPSG_4326.json',\n",
       "  'de_hh_up_einzugsgebiete_7_ordnung_EPSG_25832.json',\n",
       "  'de_hh_up_einzugsgebiete_7_ordnung_EPSG_4326.json',\n",
       "  'settings.json'],\n",
       " 'hafengebietsgrenzen_json': ['app_hafengebietsgrenzen_EPSG_25832.json',\n",
       "  'app_hafengebietsgrenzen_EPSG_4326.json',\n",
       "  'settings.json'],\n",
       " 'hauptdeichlinien_json': ['de_hh_up_hauptdeichlinie_EPSG_25832.json',\n",
       "  'de_hh_up_hauptdeichlinie_EPSG_4326.json',\n",
       "  'settings.json'],\n",
       " 'kitas_json': ['app_KitaEinrichtungen_EPSG_25832.json',\n",
       "  'app_KitaEinrichtungen_EPSG_4326.json',\n",
       "  'settings.json'],\n",
       " 'krankenhaeuser_json': ['de_hh_up_gesundheit_krankenhaeuser_EPSG_25832.json',\n",
       "  'de_hh_up_gesundheit_krankenhaeuser_EPSG_4326.json',\n",
       "  'settings.json'],\n",
       " 'pkgrenzen_json': ['de_hh_up_pk_grenzen_EPSG_25832.json',\n",
       "  'de_hh_up_pk_grenzen_EPSG_4326.json',\n",
       "  'de_hh_up_pk_standorte_EPSG_25832.json',\n",
       "  'de_hh_up_pk_standorte_EPSG_4326.json',\n",
       "  'settings.json'],\n",
       " 'strategisches_strassennetz_json': ['app_strategisches_strassennetz_EPSG_25832.json',\n",
       "  'app_strategisches_strassennetz_EPSG_4326.json',\n",
       "  'settings.json']}"
      ]
     },
     "execution_count": 27,
     "metadata": {},
     "output_type": "execute_result"
    }
   ],
   "source": [
    "files"
   ]
  },
  {
   "cell_type": "code",
   "execution_count": 28,
   "metadata": {},
   "outputs": [],
   "source": [
    "# takes in a path to a file and returns the json object\n",
    "def load_json(json_path, encoding='utf-8'):\n",
    "    json_data = {}\n",
    "    with open(json_path, 'r', encoding=encoding) as settings_file:\n",
    "        json_data = json.load(settings_file)\n",
    "    return json_data"
   ]
  },
  {
   "cell_type": "code",
   "execution_count": 29,
   "metadata": {},
   "outputs": [],
   "source": [
    "m = folium.Map(location=(53.55, 9.99), zoom_start=12)"
   ]
  },
  {
   "cell_type": "markdown",
   "metadata": {},
   "source": [
    "# Possible colors:\n",
    "\n",
    "```{'lightgray', 'gray', 'beige', 'darkgreen', 'black', 'red', 'darkblue', 'darkred', 'lightblue', 'green', 'white', 'cadetblue', 'pink', 'lightred', 'lightgreen', 'darkpurple', 'purple', 'blue', 'orange'}```"
   ]
  },
  {
   "cell_type": "code",
   "execution_count": 30,
   "metadata": {},
   "outputs": [
    {
     "data": {
      "text/plain": [
       "<folium.map.LayerControl at 0x211398180d0>"
      ]
     },
     "execution_count": 30,
     "metadata": {},
     "output_type": "execute_result"
    }
   ],
   "source": [
    "for category, file_list in files.items():\n",
    "    \n",
    "    # Load the settings for this category if it exists.\n",
    "    settings_path = os.path.join('data', category, 'settings.json')\n",
    "    category_settings = load_json(settings_path) if os.path.exists(settings_path) else {}\n",
    "    \n",
    "    # Create a feature group for this category using the display_name from settings.\n",
    "    feature_group_name = category_settings.get('display_name', category.replace('_json', '').replace('_', ' ').title())\n",
    "    feature_group = folium.FeatureGroup(name=feature_group_name, show=False)\n",
    "\n",
    "    marker_cluster = None\n",
    "    \n",
    "    # display the feature groups on the map\n",
    "    for file_name in file_list:\n",
    "\n",
    "        # Skip the settings.json file.\n",
    "        if file_name == \"settings.json\":\n",
    "            continue\n",
    "        \n",
    "        # Only add files with coordinates in EPSG:4326 for compatibility.\n",
    "        if 'EPSG_4326' in file_name:\n",
    "            geojson_path = os.path.join('data', category, file_name)\n",
    "            geojson_data = load_json(geojson_path)\n",
    "            # print(\"Loaded\", geojson_path)\n",
    "            \n",
    "            file_settings = category_settings.get('files', {}).get(file_name, {})\n",
    "            popup_properties = file_settings.get('popup_properties', {})\n",
    "            \n",
    "            for feature in geojson_data['features']:\n",
    "\n",
    "                # compute the style for a geojson object\n",
    "                def compute_style_function(file_settings):\n",
    "                    \"\"\" Returns a style function configured with the given file settings. \"\"\"\n",
    "                    def compute_style(feature):\n",
    "                        # Default color from settings\n",
    "                        fillColor = file_settings.get('color', 'blue')\n",
    "                        color = file_settings.get('color', 'black')\n",
    "                        line_weight = file_settings.get('line_weight', 8)\n",
    "                        \n",
    "                        # If there's a colormap, compute the color based on feature value\n",
    "                        if file_settings.get('colormap', False):\n",
    "                            colormap_data = file_settings.get('colormap')\n",
    "                            colormap_property = colormap_data[\"property\"]\n",
    "                            feature_value = feature['properties'][colormap_property]\n",
    "                            colormap = cm.LinearColormap(colors=colormap_data[\"colors\"], vmin=colormap_data[\"vmin\"], vmax=colormap_data[\"vmax\"])\n",
    "                            color = colormap(feature_value)[:7]  # Remove alpha channel from color\n",
    "\n",
    "                        return {\n",
    "                            'fillColor': fillColor,\n",
    "                            'color': color,\n",
    "                            'weight': line_weight\n",
    "                        }\n",
    "                    return compute_style\n",
    "\n",
    "                # populate the popup content with the properties specified in settings\n",
    "                # The first line is the name of the marker\n",
    "                marker_name = file_settings.get('name', '')\n",
    "                popup_content = f'<b>{marker_name}</b><br>'\n",
    "\n",
    "                # Afterwards, each line is a property of the marker, as specified in settings.json\n",
    "                popup_content += '<br>'.join(\n",
    "                    [f\"<b>{display_name}</b>: {feature['properties'][internal_name]}\" for display_name, internal_name in popup_properties.items() if internal_name in feature['properties']]\n",
    "                )\n",
    "\n",
    "                feature_type = file_settings.get('type')\n",
    "                \n",
    "                # Add the feature to the map. Feature type is specified in settings.json\n",
    "                if feature_type == \"geojson\":\n",
    "\n",
    "                    style_function = compute_style_function(file_settings)\n",
    "\n",
    "                    folium.GeoJson(\n",
    "                        feature,\n",
    "                        style_function=style_function,\n",
    "                        tooltip=popup_content\n",
    "                    ).add_to(feature_group)\n",
    "                \n",
    "                elif feature_type == \"marker\":\n",
    "                    coords = feature['geometry']['coordinates']\n",
    "\n",
    "                    # get the icon data from settings.json\n",
    "                    icon = file_settings.get('icon', ''), \n",
    "                    icon_prefix = file_settings.get('icon-prefix', '')\n",
    "                    icon_color = file_settings.get('color', 'blue')\n",
    "\n",
    "                    folium.Marker(\n",
    "                        location=[coords[1], coords[0]],  # Swap coords for latitude and longitude\n",
    "                        popup=popup_content,\n",
    "                        icon=folium.Icon(icon=icon, prefix=icon_prefix, color=icon_color)\n",
    "                    ).add_to(feature_group)\n",
    "                \n",
    "                elif feature_type == \"marker-cluster\":\n",
    "\n",
    "                    if marker_cluster is None:\n",
    "                        marker_cluster = MarkerCluster().add_to(feature_group)\n",
    "\n",
    "                    coords = feature['geometry']['coordinates']\n",
    "\n",
    "                    # get the icon data from settings.json\n",
    "                    icon = file_settings.get('icon', ''), \n",
    "                    icon_prefix = file_settings.get('icon-prefix', '')\n",
    "                    icon_color = file_settings.get('color', 'blue')\n",
    "\n",
    "                    folium.Marker(\n",
    "                        location=[coords[1], coords[0]],  # Swap coords for latitude and longitude\n",
    "                        popup=popup_content,\n",
    "                        icon=folium.Icon(icon=icon, prefix=icon_prefix, color=icon_color)\n",
    "                    ).add_to(marker_cluster)\n",
    "                \n",
    "                elif feature_type == \"choropleth\":\n",
    "                    # TODO: Add choropleth logic here.\n",
    "                    pass\n",
    "\n",
    "    feature_group.add_to(m)\n",
    "\n",
    "folium.LayerControl().add_to(m)"
   ]
  },
  {
   "cell_type": "code",
   "execution_count": 31,
   "metadata": {},
   "outputs": [],
   "source": [
    "# m"
   ]
  },
  {
   "cell_type": "code",
   "execution_count": 32,
   "metadata": {},
   "outputs": [],
   "source": [
    "# save the map to an html file\n",
    "m.save('map.html')"
   ]
  }
 ],
 "metadata": {
  "kernelspec": {
   "display_name": "Python 3",
   "language": "python",
   "name": "python3"
  },
  "language_info": {
   "codemirror_mode": {
    "name": "ipython",
    "version": 3
   },
   "file_extension": ".py",
   "mimetype": "text/x-python",
   "name": "python",
   "nbconvert_exporter": "python",
   "pygments_lexer": "ipython3",
   "version": "3.10.11"
  }
 },
 "nbformat": 4,
 "nbformat_minor": 2
}
